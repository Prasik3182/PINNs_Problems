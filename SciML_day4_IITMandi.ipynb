{
 "cells": [
  {
   "cell_type": "markdown",
   "id": "e4f17d95-2642-4cf7-b149-24aada253289",
   "metadata": {},
   "source": [
    "# Recap \n",
    "### Walkthrough of PINN Algorithm:\n",
    "\n",
    "1. **Define Problem (ODEs/PDE)**\n",
    "2. **Initialize Neural Network** ```class PINN(nn.Module):```\n",
    "3. **Compute ODE Residuals (Use automatic differentiation)**: ```def pde_residual, def initial_condition, def boundary_condition(x, t)```\n",
    "4. **Define Loss Function** ```def loss_fn```\n",
    "   - Data Loss\n",
    "   - Residual loss\n",
    "   - Initial condition loss\n",
    "   - Total Loss\n",
    "5. **Train the Network** ```def train```\n",
    "    - **Epoch Loop**   \n",
    "    - **Loss Calculation**\n",
    "    - **Gradient Calculation**\n",
    "    - **Optimizer Update**\n",
    "5. **Progress Logging**\n",
    "6. **Evaluate Results**\n",
    "7. **Visualize Results**"
   ]
  },
  {
   "cell_type": "code",
   "execution_count": null,
   "id": "2e24134f-09dc-4013-8cf5-d0ff4a70668a",
   "metadata": {},
   "outputs": [],
   "source": [
    "class PINN(nn.Module):\n",
    "    def __init__(self):\n",
    "        super(PINN, self).__init__() # super().__init__() ensures that the parent class (nn.Module) is properly initialized.\n",
    "        self.dense1 = nn.Linear(1, 64)  # Assuming t has shape [N, 1]\n",
    "        self.dense2 = nn.Linear(64, 64)\n",
    "        self.dense3 = nn.Linear(64, 2)  # Output: [x(t), y(t)]\n",
    "\n",
    "    def forward(self, t):\n",
    "        t = torch.tanh(self.dense1(t))\n",
    "        t = torch.tanh(self.dense2(t))\n",
    "        return self.dense3(t)"
   ]
  },
  {
   "cell_type": "code",
   "execution_count": null,
   "id": "205b4449-dd31-417d-bc59-e63a057ef43f",
   "metadata": {},
   "outputs": [],
   "source": [
    "import torch\n",
    "import torch.nn as nn\n",
    "import torch.optim as optim\n",
    "import numpy as np\n",
    "import matplotlib.pyplot as plt"
   ]
  },
  {
   "cell_type": "code",
   "execution_count": null,
   "id": "1c30e900-c4d7-4aef-8277-8d3c7075b739",
   "metadata": {},
   "outputs": [],
   "source": [
    "# Define the neural network model class for 1 input and 1 output\n",
    "class PINN(nn.Module):\n",
    "    def __init__(self):\n",
    "        super(PINN, self).__init__()\n",
    "        self.hidden = nn.Sequential(\n",
    "            nn.Linear(1, 20),  # only 1 input dimension (x)\n",
    "            nn.Tanh(),\n",
    "            nn.Linear(20, 20),\n",
    "            nn.Tanh(),\n",
    "            nn.Linear(20, 20),\n",
    "            nn.Tanh(),\n",
    "            nn.Linear(20, 20),\n",
    "            nn.Tanh(),\n",
    "            nn.Linear(20, 1)   # output u(x)\n",
    "        )\n",
    "\n",
    "    def forward(self, x):  # Only one input. x has shape [N, 1]\n",
    "        u = self.hidden(x)\n",
    "        return u"
   ]
  },
  {
   "cell_type": "code",
   "execution_count": null,
   "id": "e701007b-ab7d-4548-8908-2c352937e505",
   "metadata": {},
   "outputs": [],
   "source": [
    "# Define the neural network model class for 2 input and 1 output\n",
    "class PINN(nn.Module):\n",
    "    def __init__(self):\n",
    "        super(PINN, self).__init__()\n",
    "        self.hidden = nn.Sequential(\n",
    "            nn.Linear(2, 20),  # 2 input dimensions (x and t)\n",
    "            nn.Tanh(),\n",
    "            nn.Linear(20, 20),\n",
    "            nn.Tanh(),\n",
    "            nn.Linear(20, 20),\n",
    "            nn.Tanh(),\n",
    "            nn.Linear(20, 20),\n",
    "            nn.Tanh(),            \n",
    "            nn.Linear(20, 1)   # 1 output dimension (u)\n",
    "        )\n",
    "\n",
    "    def forward(self, x, t):\n",
    "        inputs = torch.cat([x, t], dim=1)  # Concatenate x and t along the second axis\n",
    "        u = self.hidden(inputs)\n",
    "        return u"
   ]
  },
  {
   "cell_type": "markdown",
   "id": "ba05e1c0-8808-45cc-96d8-27914291ba98",
   "metadata": {},
   "source": [
    "### 1 input --> two output\n",
    "\n",
    "You want to approximate a function:\n",
    "$$\n",
    "f: \\mathbb{R}^1 \\rightarrow \\mathbb{R}^2\n",
    "$$\n",
    "That is, for each input scalar $ x $, the model should output a 2D vector:\n",
    "$$\n",
    "[u(x), v(x)]\n",
    "$$\n",
    "Modified PINN Architecture (1 input, 2 outputs):"
   ]
  },
  {
   "cell_type": "code",
   "execution_count": 1,
   "id": "bd80c7b3-30b5-4b73-9068-411636d55419",
   "metadata": {},
   "outputs": [
    {
     "ename": "NameError",
     "evalue": "name 'nn' is not defined",
     "output_type": "error",
     "traceback": [
      "\u001b[1;31m---------------------------------------------------------------------------\u001b[0m",
      "\u001b[1;31mNameError\u001b[0m                                 Traceback (most recent call last)",
      "Cell \u001b[1;32mIn[1], line 1\u001b[0m\n\u001b[1;32m----> 1\u001b[0m \u001b[38;5;28;01mclass\u001b[39;00m\u001b[38;5;250m \u001b[39m\u001b[38;5;21;01mPINN\u001b[39;00m(\u001b[43mnn\u001b[49m\u001b[38;5;241m.\u001b[39mModule):\n\u001b[0;32m      2\u001b[0m     \u001b[38;5;28;01mdef\u001b[39;00m\u001b[38;5;250m \u001b[39m\u001b[38;5;21m__init__\u001b[39m(\u001b[38;5;28mself\u001b[39m):\n\u001b[0;32m      3\u001b[0m         \u001b[38;5;28msuper\u001b[39m(PINN, \u001b[38;5;28mself\u001b[39m)\u001b[38;5;241m.\u001b[39m\u001b[38;5;21m__init__\u001b[39m()\n",
      "\u001b[1;31mNameError\u001b[0m: name 'nn' is not defined"
     ]
    }
   ],
   "source": [
    "class PINN(nn.Module):\n",
    "    def __init__(self):\n",
    "        super(PINN, self).__init__()\n",
    "        self.hidden = nn.Sequential(\n",
    "            nn.Linear(1, 20),   # 1 input feature (x)\n",
    "            nn.Tanh(),\n",
    "            nn.Linear(20, 20),\n",
    "            nn.Tanh(),\n",
    "            nn.Linear(20, 20),\n",
    "            nn.Tanh(),\n",
    "            nn.Linear(20, 2)    # 2 output features: [u, v]\n",
    "        )\n",
    "\n",
    "    def forward(self, x):\n",
    "        out = self.hidden(x)\n",
    "        return out  # shape: [batch_size, 2]"
   ]
  },
  {
   "cell_type": "markdown",
   "id": "cc1e9dcd-5a6e-4c04-84e3-3685f01048cb",
   "metadata": {},
   "source": [
    "## Problem Definition\n",
    "\n",
    "Lets consider a simple boundary value problem (BVP) \"Poisson Equation in 1D\" [ref](https://deepxde.readthedocs.io/en/latest/demos/pinn_forward/poisson.1d.dirichlet.html), \n",
    "\n",
    "Our aim is to solve the differntial equation to obtain the solution $y(x)$, which satisfies both D.eqn and BC.\n",
    "\n",
    "$$\\frac{d^2y}{dx^2}+\\pi^2 sin(\\pi x)=0, \\quad \\quad \\quad x \\in [-1, 1] $$\n",
    "\n",
    "Boundary Conditions,\n",
    "\n",
    "$$y(-1)=0 \\quad \\text{and} \\quad y(1)=0$$\n",
    "\n",
    "### Analytical Solution\n",
    "\n",
    "The analytical solution for this boundary value problem is,\n",
    "\n",
    "$$y(x) = sin(\\pi x) $$\n",
    "\n"
   ]
  },
  {
   "cell_type": "code",
   "execution_count": 1,
   "id": "74bc0813-fd1b-4882-a34a-e90c28c5f9df",
   "metadata": {},
   "outputs": [],
   "source": [
    "import torch\n",
    "import torch.nn as nn\n",
    "import torch.optim as optim\n",
    "import numpy as np\n",
    "import matplotlib.pyplot as plt"
   ]
  },
  {
   "cell_type": "code",
   "execution_count": 2,
   "id": "2154768f-0e99-4219-86e6-0cc3169ecd3d",
   "metadata": {},
   "outputs": [
    {
     "name": "stdout",
     "output_type": "stream",
     "text": [
      "Using device: cuda (NVIDIA GeForce RTX 3050 Laptop GPU)\n"
     ]
    }
   ],
   "source": [
    "device = torch.device('cuda' if torch.cuda.is_available() else 'cpu')\n",
    "print(f\"Using device: {device} ({torch.cuda.get_device_name(0) if device.type == 'cuda' else 'CPU'})\")\n"
   ]
  },
  {
   "cell_type": "code",
   "execution_count": 3,
   "id": "82e0564f-047a-47d1-a395-56244dca12e2",
   "metadata": {},
   "outputs": [],
   "source": [
    "# Set default device\n",
    "device = torch.device('cuda' if torch.cuda.is_available() else 'cpu')"
   ]
  },
  {
   "cell_type": "code",
   "execution_count": 8,
   "id": "7b234e04-ff0c-48cc-95a6-acecac76ed0b",
   "metadata": {},
   "outputs": [],
   "source": [
    "# Define the neural network model\n",
    "class PINN(nn.Module):\n",
    "    def __init__(self):\n",
    "        super(PINN, self).__init__()\n",
    "        self.model = nn.Sequential(\n",
    "            nn.Linear(1, 50),\n",
    "            nn.Tanh(),\n",
    "            nn.Linear(50, 50),\n",
    "            nn.Tanh(),\n",
    "            nn.Linear(50, 50),\n",
    "            nn.Tanh(),\n",
    "            nn.Linear(50, 1)\n",
    "        )\n",
    "        \n",
    "    # Call the NN and pass input to get output\n",
    "    def forward(self, x):\n",
    "        return self.model(x)\n",
    "\n",
    "# model = PINN()"
   ]
  },
  {
   "cell_type": "code",
   "execution_count": 9,
   "id": "88d6fa14-6ed7-41f8-8c97-ad4063a15287",
   "metadata": {},
   "outputs": [],
   "source": [
    "def pde(x, model):\n",
    "    x.requires_grad = True\n",
    "    y = model(x)\n",
    "    dy_dx = torch.autograd.grad(y, x, grad_outputs = torch.ones_like(y), create_graph=True)[0]\n",
    "    d2y_dx2 = torch.autograd.grad(dy_dx, x, grad_outputs = torch.ones_like(dy_dx), create_graph=True)[0]\n",
    "    # residue\n",
    "    return d2y_dx2 + (np.pi**2) * torch.sin(np.pi * x)\n"
   ]
  },
  {
   "cell_type": "code",
   "execution_count": 10,
   "id": "2a6d6ee7-4500-44ee-8759-10be4fbabb55",
   "metadata": {},
   "outputs": [],
   "source": [
    "def compute_loss(model, x, x_bc, y_bc):\n",
    "    res = pde(x, model)\n",
    "    loss_pde =  torch.mean(res**2)\n",
    "\n",
    "    # BC loss\n",
    "    y_bc_pred = model(x_bc)\n",
    "    loss_bc = torch.mean((y_bc - y_bc_pred)**2)\n",
    "\n",
    "    return loss_pde + loss_bc"
   ]
  },
  {
   "cell_type": "code",
   "execution_count": 11,
   "id": "7ceb59c6-9094-4e09-9034-a478e4c841d1",
   "metadata": {},
   "outputs": [],
   "source": [
    "def train_step(model, x, x_bc, y_bc, optimizer):\n",
    "    model.train()\n",
    "    optimizer.zero_grad()\n",
    "    loss = compute_loss(model, x, x_bc, y_bc)\n",
    "    loss.backward()\n",
    "    optimizer.step()\n",
    "    \n",
    "    return loss.item()\n",
    "    "
   ]
  },
  {
   "cell_type": "code",
   "execution_count": 9,
   "id": "7f30f76a-8091-4e6c-b7a6-682b201eae02",
   "metadata": {},
   "outputs": [],
   "source": [
    "# traINING DATA\n",
    "# MODEL\n",
    "# OPTIMIZER \n",
    "\n",
    "# TEST THE MODEL"
   ]
  },
  {
   "cell_type": "code",
   "execution_count": 12,
   "id": "a0309854-ad02-49fe-a9a5-9e573dadc850",
   "metadata": {},
   "outputs": [],
   "source": [
    "x_train = torch.linspace(-1, 1, 100).view(-1, 1).to(device) \n",
    "x_bc = torch.tensor([[-1.0], [1.0]], dtype=torch.float32).to(device)\n",
    "y_bc = torch.tensor([[0.0], [0.0]], dtype=torch.float32).to(device)"
   ]
  },
  {
   "cell_type": "code",
   "execution_count": 13,
   "id": "706a31fb-9e12-4f8b-b03a-57d2e94dcfec",
   "metadata": {},
   "outputs": [
    {
     "name": "stderr",
     "output_type": "stream",
     "text": [
      "c:\\Users\\Pradyumn\\anaconda3\\envs\\pytorch\\Lib\\site-packages\\torch\\autograd\\graph.py:824: UserWarning: Attempting to run cuBLAS, but there was no current CUDA context! Attempting to set the primary context... (Triggered internally at C:\\actions-runner\\_work\\pytorch\\pytorch\\pytorch\\aten\\src\\ATen\\cuda\\CublasHandlePool.cpp:181.)\n",
      "  return Variable._execution_engine.run_backward(  # Calls into the C++ engine to run the backward pass\n"
     ]
    },
    {
     "name": "stdout",
     "output_type": "stream",
     "text": [
      "Epoch 0: Loss = 47.870396\n"
     ]
    }
   ],
   "source": [
    "model = PINN().to(device)\n",
    "optimizer = torch.optim.Adam(model.parameters(), lr=1e-3)\n",
    "schedueler = torch.optim.lr_scheduler.ExponentialLR(optimizer, gamma=0.9)\n",
    "\n",
    "epochs =1000\n",
    "for epoch in range(epochs):\n",
    "    loss_value = train_step(model, x_train, x_bc,y_bc, optimizer)\n",
    "\n",
    "    if epoch % 1000 == 0:\n",
    "        print(f\"Epoch {epoch}: Loss = {loss_value:.6f}\")\n",
    "    if epoch > 0 and epoch % 1000 == 0:\n",
    "        scheduler.step() \n",
    "\n"
   ]
  },
  {
   "cell_type": "code",
   "execution_count": 14,
   "id": "c3346472-2d3f-43d5-856d-98d27ab343f6",
   "metadata": {},
   "outputs": [],
   "source": [
    "x_test = torch.linspace(-1, 1, 1000).view(-1, 1).to(device)\n",
    "model.eval()\n",
    "with torch.no_grad():\n",
    "    y_pred = model(x_test).cpu().numpy()"
   ]
  },
  {
   "cell_type": "code",
   "execution_count": 15,
   "id": "067fe483-2694-46c8-a9a1-9d31e908e5e4",
   "metadata": {},
   "outputs": [],
   "source": [
    "# # training schelduler\n",
    "# optimizer = torch.optim.Adam(model.parameters(), lr=1e-3)\n",
    "# schedueler = torch.optim._lr_scheduler.ExponentialLR(optimizer, gamma=0.9)"
   ]
  },
  {
   "cell_type": "code",
   "execution_count": 16,
   "id": "4e043a8f-4362-45d2-b60f-a64d2e35770b",
   "metadata": {},
   "outputs": [
    {
     "data": {
      "text/plain": [
       "<function matplotlib.pyplot.plot(*args: 'float | ArrayLike | str', scalex: 'bool' = True, scaley: 'bool' = True, data=None, **kwargs) -> 'list[Line2D]'>"
      ]
     },
     "execution_count": 16,
     "metadata": {},
     "output_type": "execute_result"
    }
   ],
   "source": [
    "# Ground truth\n",
    "x_test_np = x_test.cpu().numpy()\n",
    "y_true = np.sin(np.pi * x_test_np) # obtained from the analytical solution, to get true values\n",
    "plt.plot"
   ]
  },
  {
   "cell_type": "code",
   "execution_count": 17,
   "id": "ceb7eb22-b097-4a36-9939-8a5d2149876d",
   "metadata": {},
   "outputs": [
    {
     "data": {
      "image/png": "[encoded data removed]",
      "text/plain": [
       "<Figure size 500x300 with 1 Axes>"
      ]
     },
     "metadata": {},
     "output_type": "display_data"
    }
   ],
   "source": [
    "# Plotting\n",
    "plt.figure(figsize=(5, 3))\n",
    "plt.plot(x_test_np, y_true, 'b-', label='Analytical Solution')\n",
    "plt.plot(x_test_np, y_pred, 'r--', label='PINN Solution')\n",
    "plt.xlabel('x')\n",
    "plt.ylabel('y')\n",
    "plt.legend()\n",
    "plt.title('Comparison of Analytical Solution and PINN Solution')\n",
    "plt.show()"
   ]
  },
  {
   "cell_type": "markdown",
   "id": "f2cc360b-dbab-4f39-9e22-73f23dbcafe2",
   "metadata": {},
   "source": [
    "## Problem Definition: Nonlinear time dependent Burger's equation\n",
    "We will solve the following one-dimensional Burgers' equation:\n",
    "\n",
    "$$\\frac{\\partial u}{\\partial t} + u\\frac{\\partial u}{\\partial x} = \\nu\\frac{\\partial^2u}{\\partial x^2}, \\qquad x \\in [-1, 1], \\quad t \\in [0, 1]$$\n",
    "\n",
    "with the Dirichlet boundary conditions and initial conditions:\n",
    "\n",
    "$$u(-1, t) = u(1, t) = 0, \\quad u(x, 0) = - \\sin(\\pi x)$$.\n",
    "\n",
    "where:\n",
    "- $u$ is the solution as a function of space and time, $u(x, t)$.\n",
    "- $\\nu$ is the viscosity coefficient, which controls the smoothness of the solution, in this tutorial, it is considered as $0.01/\\pi$."
   ]
  },
  {
   "cell_type": "code",
   "execution_count": 17,
   "id": "7a146c4a-5bb0-4590-a72b-878ed339d194",
   "metadata": {},
   "outputs": [],
   "source": [
    "# Define the neural network model class for 2 input and 1 output\n",
    "class PINN(nn.Module):\n",
    "    def __init__(self):\n",
    "        super(PINN, self).__init__()\n",
    "        self.hidden = nn.Sequential(\n",
    "            nn.Linear(2, 20),  # 2 input dimensions (x and t)\n",
    "            nn.Tanh(),\n",
    "            nn.Linear(20, 20),\n",
    "            nn.Tanh(),\n",
    "            nn.Linear(20, 20),\n",
    "            nn.Tanh(),\n",
    "            nn.Linear(20, 20),\n",
    "            nn.Tanh(),            \n",
    "            nn.Linear(20, 1)   # 1 output dimension (u)\n",
    "        )\n",
    "\n",
    "    def forward(self, x, t):\n",
    "        inputs = torch.cat([x, t], dim=1)  # Concatenate x and t along the second axis\n",
    "        u = self.hidden(inputs)\n",
    "        return u"
   ]
  },
  {
   "cell_type": "code",
   "execution_count": 18,
   "id": "3697b504-71e7-4a96-b897-4cf1f62ada26",
   "metadata": {},
   "outputs": [],
   "source": [
    "def pde(x,t, model):\n",
    "    x.requires_grad = True\n",
    "    t.requires_grad = True\n",
    "    y = model(x,t)\n",
    "    dy_dx = torch.autograd.grad(y, x, grad_outputs = torch.ones_like(y), create_graph=True)[0]\n",
    "    dy_dt = torch.autograd.grad(y, t, grad_outputs = torch.ones_like(y), create_graph=True)[0]\n",
    "    d2y_dx2 = torch.autograd.grad(dy_dx, x, grad_outputs = torch.ones_like(dy_dx), create_graph=True)[0]\n",
    "    # residue\n",
    "    return dy_dt + y*dy_dx -(0.01/np.pi)*d2y_dx2"
   ]
  },
  {
   "cell_type": "code",
   "execution_count": null,
   "id": "b22a8451-38a6-4555-81f4-b092fff0bc93",
   "metadata": {},
   "outputs": [],
   "source": [
    "def compute_loss(model, x, x_bc, y_bc):\n",
    "    res = pde(x, model)\n",
    "    loss_pde =  torch.mean(res**2)\n",
    "\n",
    "    # BC loss\n",
    "    y_bc_pred = model(x_bc)\n",
    "    loss_bc = torch.mean((y_bc - y_bc_pred)**2)\n",
    "\n",
    "    # IC Loss\n",
    "    loss_ic = \n",
    "    \n",
    "    return loss_pde + loss_bc + loss_ic"
   ]
  }
 ],
 "metadata": {
  "kernelspec": {
   "display_name": "pytorch",
   "language": "python",
   "name": "python3"
  },
  "language_info": {
   "codemirror_mode": {
    "name": "ipython",
    "version": 3
   },
   "file_extension": ".py",
   "mimetype": "text/x-python",
   "name": "python",
   "nbconvert_exporter": "python",
   "pygments_lexer": "ipython3",
   "version": "3.13.5"
  }
 },
 "nbformat": 4,
 "nbformat_minor": 5
}
